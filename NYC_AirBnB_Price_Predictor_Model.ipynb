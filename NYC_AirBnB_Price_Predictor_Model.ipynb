{
  "nbformat": 4,
  "nbformat_minor": 0,
  "metadata": {
    "colab": {
      "name": "NYC AirBnB Price Predictor Model.ipynb",
      "provenance": [],
      "collapsed_sections": [],
      "authorship_tag": "ABX9TyOyOF4+jY90wZMXJpzIui4+",
      "include_colab_link": true
    },
    "kernelspec": {
      "display_name": "Python 3",
      "name": "python3"
    }
  },
  "cells": [
    {
      "cell_type": "markdown",
      "metadata": {
        "id": "view-in-github",
        "colab_type": "text"
      },
      "source": [
        "<a href=\"https://colab.research.google.com/github/bendemers/SE-Data-Science-Co-op-Technical/blob/main/NYC_AirBnB_Price_Predictor_Model.ipynb\" target=\"_parent\"><img src=\"https://colab.research.google.com/assets/colab-badge.svg\" alt=\"Open In Colab\"/></a>"
      ]
    },
    {
      "cell_type": "markdown",
      "metadata": {
        "id": "CgHH4ssUaOxZ"
      },
      "source": [
        "# NYC AirBnb Price Preditor\n",
        "By Ben Demers\n",
        "\n",
        "Working with a [kaggle dataset](https://www.kaggle.com/dgomonov/new-york-city-airbnb-open-data) provided by Airbnb to build a model that can predict price of a house in NY using the Airbnb dataset. \n"
      ]
    },
    {
      "cell_type": "markdown",
      "metadata": {
        "id": "Tefzg8o5Z-Sh"
      },
      "source": [
        "# Data Exploration and Wrangling\n",
        "The goal of this section is to take an intial look at the data set and begin make predictions/clean up to data so it can be fit to a regression model."
      ]
    },
    {
      "cell_type": "markdown",
      "metadata": {
        "id": "yj8w4O2Tarxi"
      },
      "source": [
        "Import libraries  "
      ]
    },
    {
      "cell_type": "code",
      "metadata": {
        "id": "eNVzwDaBZfRb"
      },
      "source": [
        "import pandas as pd\n",
        "import numpy as np\n",
        "import seaborn\n",
        "import matplotlib.pyplot as plt"
      ],
      "execution_count": 62,
      "outputs": []
    },
    {
      "cell_type": "code",
      "metadata": {
        "colab": {
          "base_uri": "https://localhost:8080/",
          "height": 0
        },
        "id": "BioQ01wnax28",
        "outputId": "eb6433d5-f494-4431-d26b-075e61aacf1b"
      },
      "source": [
        "airbnb = pd.read_csv(\"AB_NYC_2019.csv\")\n",
        "airbnb.head()"
      ],
      "execution_count": 63,
      "outputs": [
        {
          "output_type": "execute_result",
          "data": {
            "text/html": [
              "<div>\n",
              "<style scoped>\n",
              "    .dataframe tbody tr th:only-of-type {\n",
              "        vertical-align: middle;\n",
              "    }\n",
              "\n",
              "    .dataframe tbody tr th {\n",
              "        vertical-align: top;\n",
              "    }\n",
              "\n",
              "    .dataframe thead th {\n",
              "        text-align: right;\n",
              "    }\n",
              "</style>\n",
              "<table border=\"1\" class=\"dataframe\">\n",
              "  <thead>\n",
              "    <tr style=\"text-align: right;\">\n",
              "      <th></th>\n",
              "      <th>id</th>\n",
              "      <th>name</th>\n",
              "      <th>host_id</th>\n",
              "      <th>host_name</th>\n",
              "      <th>neighbourhood_group</th>\n",
              "      <th>neighbourhood</th>\n",
              "      <th>latitude</th>\n",
              "      <th>longitude</th>\n",
              "      <th>room_type</th>\n",
              "      <th>price</th>\n",
              "      <th>minimum_nights</th>\n",
              "      <th>number_of_reviews</th>\n",
              "      <th>last_review</th>\n",
              "      <th>reviews_per_month</th>\n",
              "      <th>calculated_host_listings_count</th>\n",
              "      <th>availability_365</th>\n",
              "    </tr>\n",
              "  </thead>\n",
              "  <tbody>\n",
              "    <tr>\n",
              "      <th>0</th>\n",
              "      <td>2539</td>\n",
              "      <td>Clean &amp; quiet apt home by the park</td>\n",
              "      <td>2787</td>\n",
              "      <td>John</td>\n",
              "      <td>Brooklyn</td>\n",
              "      <td>Kensington</td>\n",
              "      <td>40.64749</td>\n",
              "      <td>-73.97237</td>\n",
              "      <td>Private room</td>\n",
              "      <td>149</td>\n",
              "      <td>1</td>\n",
              "      <td>9</td>\n",
              "      <td>2018-10-19</td>\n",
              "      <td>0.21</td>\n",
              "      <td>6</td>\n",
              "      <td>365</td>\n",
              "    </tr>\n",
              "    <tr>\n",
              "      <th>1</th>\n",
              "      <td>2595</td>\n",
              "      <td>Skylit Midtown Castle</td>\n",
              "      <td>2845</td>\n",
              "      <td>Jennifer</td>\n",
              "      <td>Manhattan</td>\n",
              "      <td>Midtown</td>\n",
              "      <td>40.75362</td>\n",
              "      <td>-73.98377</td>\n",
              "      <td>Entire home/apt</td>\n",
              "      <td>225</td>\n",
              "      <td>1</td>\n",
              "      <td>45</td>\n",
              "      <td>2019-05-21</td>\n",
              "      <td>0.38</td>\n",
              "      <td>2</td>\n",
              "      <td>355</td>\n",
              "    </tr>\n",
              "    <tr>\n",
              "      <th>2</th>\n",
              "      <td>3647</td>\n",
              "      <td>THE VILLAGE OF HARLEM....NEW YORK !</td>\n",
              "      <td>4632</td>\n",
              "      <td>Elisabeth</td>\n",
              "      <td>Manhattan</td>\n",
              "      <td>Harlem</td>\n",
              "      <td>40.80902</td>\n",
              "      <td>-73.94190</td>\n",
              "      <td>Private room</td>\n",
              "      <td>150</td>\n",
              "      <td>3</td>\n",
              "      <td>0</td>\n",
              "      <td>NaN</td>\n",
              "      <td>NaN</td>\n",
              "      <td>1</td>\n",
              "      <td>365</td>\n",
              "    </tr>\n",
              "    <tr>\n",
              "      <th>3</th>\n",
              "      <td>3831</td>\n",
              "      <td>Cozy Entire Floor of Brownstone</td>\n",
              "      <td>4869</td>\n",
              "      <td>LisaRoxanne</td>\n",
              "      <td>Brooklyn</td>\n",
              "      <td>Clinton Hill</td>\n",
              "      <td>40.68514</td>\n",
              "      <td>-73.95976</td>\n",
              "      <td>Entire home/apt</td>\n",
              "      <td>89</td>\n",
              "      <td>1</td>\n",
              "      <td>270</td>\n",
              "      <td>2019-07-05</td>\n",
              "      <td>4.64</td>\n",
              "      <td>1</td>\n",
              "      <td>194</td>\n",
              "    </tr>\n",
              "    <tr>\n",
              "      <th>4</th>\n",
              "      <td>5022</td>\n",
              "      <td>Entire Apt: Spacious Studio/Loft by central park</td>\n",
              "      <td>7192</td>\n",
              "      <td>Laura</td>\n",
              "      <td>Manhattan</td>\n",
              "      <td>East Harlem</td>\n",
              "      <td>40.79851</td>\n",
              "      <td>-73.94399</td>\n",
              "      <td>Entire home/apt</td>\n",
              "      <td>80</td>\n",
              "      <td>10</td>\n",
              "      <td>9</td>\n",
              "      <td>2018-11-19</td>\n",
              "      <td>0.10</td>\n",
              "      <td>1</td>\n",
              "      <td>0</td>\n",
              "    </tr>\n",
              "  </tbody>\n",
              "</table>\n",
              "</div>"
            ],
            "text/plain": [
              "     id  ... availability_365\n",
              "0  2539  ...              365\n",
              "1  2595  ...              355\n",
              "2  3647  ...              365\n",
              "3  3831  ...              194\n",
              "4  5022  ...                0\n",
              "\n",
              "[5 rows x 16 columns]"
            ]
          },
          "metadata": {
            "tags": []
          },
          "execution_count": 63
        }
      ]
    },
    {
      "cell_type": "code",
      "metadata": {
        "colab": {
          "base_uri": "https://localhost:8080/"
        },
        "id": "aiazD1AZb7KA",
        "outputId": "d9512065-523e-4cc9-ee5c-31959ff39f44"
      },
      "source": [
        "airbnb.info()"
      ],
      "execution_count": 64,
      "outputs": [
        {
          "output_type": "stream",
          "text": [
            "<class 'pandas.core.frame.DataFrame'>\n",
            "RangeIndex: 48895 entries, 0 to 48894\n",
            "Data columns (total 16 columns):\n",
            " #   Column                          Non-Null Count  Dtype  \n",
            "---  ------                          --------------  -----  \n",
            " 0   id                              48895 non-null  int64  \n",
            " 1   name                            48879 non-null  object \n",
            " 2   host_id                         48895 non-null  int64  \n",
            " 3   host_name                       48874 non-null  object \n",
            " 4   neighbourhood_group             48895 non-null  object \n",
            " 5   neighbourhood                   48895 non-null  object \n",
            " 6   latitude                        48895 non-null  float64\n",
            " 7   longitude                       48895 non-null  float64\n",
            " 8   room_type                       48895 non-null  object \n",
            " 9   price                           48895 non-null  int64  \n",
            " 10  minimum_nights                  48895 non-null  int64  \n",
            " 11  number_of_reviews               48895 non-null  int64  \n",
            " 12  last_review                     38843 non-null  object \n",
            " 13  reviews_per_month               38843 non-null  float64\n",
            " 14  calculated_host_listings_count  48895 non-null  int64  \n",
            " 15  availability_365                48895 non-null  int64  \n",
            "dtypes: float64(3), int64(7), object(6)\n",
            "memory usage: 6.0+ MB\n"
          ],
          "name": "stdout"
        }
      ]
    },
    {
      "cell_type": "code",
      "metadata": {
        "colab": {
          "base_uri": "https://localhost:8080/"
        },
        "id": "qYdH_OE2dWup",
        "outputId": "b71ea512-ef13-4318-cdfe-f082038b9bd9"
      },
      "source": [
        "airbnb.duplicated().sum()"
      ],
      "execution_count": 65,
      "outputs": [
        {
          "output_type": "execute_result",
          "data": {
            "text/plain": [
              "0"
            ]
          },
          "metadata": {
            "tags": []
          },
          "execution_count": 65
        }
      ]
    },
    {
      "cell_type": "code",
      "metadata": {
        "colab": {
          "base_uri": "https://localhost:8080/"
        },
        "id": "EmHG3nxGbRfT",
        "outputId": "a970ec75-012b-4643-fd6d-7bbfc52155cb"
      },
      "source": [
        "airbnb.isnull().sum()"
      ],
      "execution_count": 66,
      "outputs": [
        {
          "output_type": "execute_result",
          "data": {
            "text/plain": [
              "id                                    0\n",
              "name                                 16\n",
              "host_id                               0\n",
              "host_name                            21\n",
              "neighbourhood_group                   0\n",
              "neighbourhood                         0\n",
              "latitude                              0\n",
              "longitude                             0\n",
              "room_type                             0\n",
              "price                                 0\n",
              "minimum_nights                        0\n",
              "number_of_reviews                     0\n",
              "last_review                       10052\n",
              "reviews_per_month                 10052\n",
              "calculated_host_listings_count        0\n",
              "availability_365                      0\n",
              "dtype: int64"
            ]
          },
          "metadata": {
            "tags": []
          },
          "execution_count": 66
        }
      ]
    },
    {
      "cell_type": "markdown",
      "metadata": {
        "id": "SUCL_F-IbYVF"
      },
      "source": [
        "We can see from viewing the sums of null entires in the dataframe that there are a few entires missing a name/host name and a larger subset of the data the is missing last reviews and reviews per month. After reading about the data, it seems that last reviews and reviews per month are null in the case of a listing have no reviews. For our model, we can just drop the coloums of 'name', 'id', 'host_name', and 'last_review' as those shouldn't have too much impact on the model and could be considered unethical in the case of host name as we don't want to fit out model towards the people listing the houses, only the houses themselves. We will then just replace the null entries of reviews per month with a zero.\n",
        "\n"
      ]
    },
    {
      "cell_type": "code",
      "metadata": {
        "colab": {
          "base_uri": "https://localhost:8080/",
          "height": 0
        },
        "id": "Cz5wXWR7ecuV",
        "outputId": "17bef51f-4a60-41ff-eb6c-3d62c4c47bec"
      },
      "source": [
        "airbnb.drop(['name', 'host_id', 'latitude', 'longitude', 'id', 'host_name', 'last_review'], axis=1, inplace= True)\n",
        "airbnb.fillna({'reviews_per_month': 0}, inplace= True)\n",
        "airbnb.head(3)"
      ],
      "execution_count": 67,
      "outputs": [
        {
          "output_type": "execute_result",
          "data": {
            "text/html": [
              "<div>\n",
              "<style scoped>\n",
              "    .dataframe tbody tr th:only-of-type {\n",
              "        vertical-align: middle;\n",
              "    }\n",
              "\n",
              "    .dataframe tbody tr th {\n",
              "        vertical-align: top;\n",
              "    }\n",
              "\n",
              "    .dataframe thead th {\n",
              "        text-align: right;\n",
              "    }\n",
              "</style>\n",
              "<table border=\"1\" class=\"dataframe\">\n",
              "  <thead>\n",
              "    <tr style=\"text-align: right;\">\n",
              "      <th></th>\n",
              "      <th>neighbourhood_group</th>\n",
              "      <th>neighbourhood</th>\n",
              "      <th>room_type</th>\n",
              "      <th>price</th>\n",
              "      <th>minimum_nights</th>\n",
              "      <th>number_of_reviews</th>\n",
              "      <th>reviews_per_month</th>\n",
              "      <th>calculated_host_listings_count</th>\n",
              "      <th>availability_365</th>\n",
              "    </tr>\n",
              "  </thead>\n",
              "  <tbody>\n",
              "    <tr>\n",
              "      <th>0</th>\n",
              "      <td>Brooklyn</td>\n",
              "      <td>Kensington</td>\n",
              "      <td>Private room</td>\n",
              "      <td>149</td>\n",
              "      <td>1</td>\n",
              "      <td>9</td>\n",
              "      <td>0.21</td>\n",
              "      <td>6</td>\n",
              "      <td>365</td>\n",
              "    </tr>\n",
              "    <tr>\n",
              "      <th>1</th>\n",
              "      <td>Manhattan</td>\n",
              "      <td>Midtown</td>\n",
              "      <td>Entire home/apt</td>\n",
              "      <td>225</td>\n",
              "      <td>1</td>\n",
              "      <td>45</td>\n",
              "      <td>0.38</td>\n",
              "      <td>2</td>\n",
              "      <td>355</td>\n",
              "    </tr>\n",
              "    <tr>\n",
              "      <th>2</th>\n",
              "      <td>Manhattan</td>\n",
              "      <td>Harlem</td>\n",
              "      <td>Private room</td>\n",
              "      <td>150</td>\n",
              "      <td>3</td>\n",
              "      <td>0</td>\n",
              "      <td>0.00</td>\n",
              "      <td>1</td>\n",
              "      <td>365</td>\n",
              "    </tr>\n",
              "  </tbody>\n",
              "</table>\n",
              "</div>"
            ],
            "text/plain": [
              "  neighbourhood_group  ... availability_365\n",
              "0            Brooklyn  ...              365\n",
              "1           Manhattan  ...              355\n",
              "2           Manhattan  ...              365\n",
              "\n",
              "[3 rows x 9 columns]"
            ]
          },
          "metadata": {
            "tags": []
          },
          "execution_count": 67
        }
      ]
    },
    {
      "cell_type": "code",
      "metadata": {
        "colab": {
          "base_uri": "https://localhost:8080/"
        },
        "id": "RFyeh7D3ermX",
        "outputId": "898304b8-4983-469c-e307-57c00ab34187"
      },
      "source": [
        "airbnb.isnull().sum()"
      ],
      "execution_count": 68,
      "outputs": [
        {
          "output_type": "execute_result",
          "data": {
            "text/plain": [
              "neighbourhood_group               0\n",
              "neighbourhood                     0\n",
              "room_type                         0\n",
              "price                             0\n",
              "minimum_nights                    0\n",
              "number_of_reviews                 0\n",
              "reviews_per_month                 0\n",
              "calculated_host_listings_count    0\n",
              "availability_365                  0\n",
              "dtype: int64"
            ]
          },
          "metadata": {
            "tags": []
          },
          "execution_count": 68
        }
      ]
    },
    {
      "cell_type": "markdown",
      "metadata": {
        "id": "VewQtG7AdYKW"
      },
      "source": [
        "Next, I want to check for outliers in the data, for example listings with extreme prices."
      ]
    },
    {
      "cell_type": "code",
      "metadata": {
        "colab": {
          "base_uri": "https://localhost:8080/",
          "height": 0
        },
        "id": "EZsaB1INdyNh",
        "outputId": "d501f791-6052-4548-ffc2-f3cee7279199"
      },
      "source": [
        "print(airbnb[\"price\"].describe())\n",
        "seaborn.boxplot(x=airbnb['price'])"
      ],
      "execution_count": 69,
      "outputs": [
        {
          "output_type": "stream",
          "text": [
            "count    48895.000000\n",
            "mean       152.720687\n",
            "std        240.154170\n",
            "min          0.000000\n",
            "25%         69.000000\n",
            "50%        106.000000\n",
            "75%        175.000000\n",
            "max      10000.000000\n",
            "Name: price, dtype: float64\n"
          ],
          "name": "stdout"
        },
        {
          "output_type": "execute_result",
          "data": {
            "text/plain": [
              "<matplotlib.axes._subplots.AxesSubplot at 0x7f1f9138eda0>"
            ]
          },
          "metadata": {
            "tags": []
          },
          "execution_count": 69
        },
        {
          "output_type": "display_data",
          "data": {
            "image/png": "[encoded data removed]",
            "text/plain": [
              "<Figure size 432x288 with 1 Axes>"
            ]
          },
          "metadata": {
            "tags": [],
            "needs_background": "light"
          }
        }
      ]
    },
    {
      "cell_type": "code",
      "metadata": {
        "colab": {
          "base_uri": "https://localhost:8080/",
          "height": 0
        },
        "id": "dJ0g32qc4f-3",
        "outputId": "b8e06b3a-52ac-41a1-a1ce-a3b419ed2468"
      },
      "source": [
        "price_dist = airbnb['price'].hist()"
      ],
      "execution_count": 70,
      "outputs": [
        {
          "output_type": "display_data",
          "data": {
            "image/png": "[encoded data removed]",
            "text/plain": [
              "<Figure size 432x288 with 1 Axes>"
            ]
          },
          "metadata": {
            "tags": [],
            "needs_background": "light"
          }
        }
      ]
    },
    {
      "cell_type": "code",
      "metadata": {
        "colab": {
          "base_uri": "https://localhost:8080/",
          "height": 0
        },
        "id": "1GMySo_V5DSL",
        "outputId": "95aab2ec-9ed5-48da-cf94-ffd9cafd34ae"
      },
      "source": [
        "price_dist = airbnb['price'][airbnb['price'] < 1000].hist()"
      ],
      "execution_count": 71,
      "outputs": [
        {
          "output_type": "display_data",
          "data": {
            "image/png": "[encoded data removed]",
            "text/plain": [
              "<Figure size 432x288 with 1 Axes>"
            ]
          },
          "metadata": {
            "tags": [],
            "needs_background": "light"
          }
        }
      ]
    },
    {
      "cell_type": "code",
      "metadata": {
        "colab": {
          "base_uri": "https://localhost:8080/",
          "height": 0
        },
        "id": "_nq3j6Fl4yuA",
        "outputId": "26655f3d-87f4-435b-8ee8-8fa689a818ec"
      },
      "source": [
        "price_dist = airbnb['price'][airbnb['price'] < 500].hist()"
      ],
      "execution_count": 72,
      "outputs": [
        {
          "output_type": "display_data",
          "data": {
            "image/png": "[encoded data removed]",
            "text/plain": [
              "<Figure size 432x288 with 1 Axes>"
            ]
          },
          "metadata": {
            "tags": [],
            "needs_background": "light"
          }
        }
      ]
    },
    {
      "cell_type": "markdown",
      "metadata": {
        "id": "R3xyDsv8hij8"
      },
      "source": [
        "We can see that the vast majority of the price data exists for prices under \\$1000. We will remove all of the entries that are priced above \\$1000 and try to account for the fact that there distrobution is more focused in the range of \\$0-\\$300."
      ]
    },
    {
      "cell_type": "code",
      "metadata": {
        "colab": {
          "base_uri": "https://localhost:8080/"
        },
        "id": "O-E-hKSJehzH",
        "outputId": "59a2bdbd-c861-4302-fcb0-afd9392015a6"
      },
      "source": [
        "airbnb[airbnb[\"price\"] == 0].shape"
      ],
      "execution_count": 73,
      "outputs": [
        {
          "output_type": "execute_result",
          "data": {
            "text/plain": [
              "(11, 9)"
            ]
          },
          "metadata": {
            "tags": []
          },
          "execution_count": 73
        }
      ]
    },
    {
      "cell_type": "markdown",
      "metadata": {
        "id": "tWMixfupewf1"
      },
      "source": [
        "Weird to see that there are 11 listings at price zero, should be removed."
      ]
    },
    {
      "cell_type": "code",
      "metadata": {
        "colab": {
          "base_uri": "https://localhost:8080/"
        },
        "id": "2OFpUnOB52Cd",
        "outputId": "6664e51d-50eb-49f4-b650-dea5dfd62ecc"
      },
      "source": [
        "print(airbnb.shape)\n",
        "airbnb = airbnb[airbnb[\"price\"]<500]\n",
        "airbnb = airbnb[airbnb[\"price\"]>0]\n",
        "print(airbnb.shape)"
      ],
      "execution_count": 74,
      "outputs": [
        {
          "output_type": "stream",
          "text": [
            "(48895, 9)\n",
            "(47649, 9)\n"
          ],
          "name": "stdout"
        }
      ]
    },
    {
      "cell_type": "code",
      "metadata": {
        "colab": {
          "base_uri": "https://localhost:8080/"
        },
        "id": "vOYJUMSjg-ra",
        "outputId": "27ebd369-782c-4b30-8899-7a6a7f5e310e"
      },
      "source": [
        "airbnb.groupby(\"neighbourhood_group\")[\"price\"].mean()"
      ],
      "execution_count": 75,
      "outputs": [
        {
          "output_type": "execute_result",
          "data": {
            "text/plain": [
              "neighbourhood_group\n",
              "Bronx             81.044403\n",
              "Brooklyn         111.701958\n",
              "Manhattan        161.114141\n",
              "Queens            92.344583\n",
              "Staten Island     91.144414\n",
              "Name: price, dtype: float64"
            ]
          },
          "metadata": {
            "tags": []
          },
          "execution_count": 75
        }
      ]
    },
    {
      "cell_type": "code",
      "metadata": {
        "colab": {
          "base_uri": "https://localhost:8080/",
          "height": 0
        },
        "id": "3dCkOjhHhCoQ",
        "outputId": "3d82dbc3-e1c1-4efe-ce79-0e1932636805"
      },
      "source": [
        "byNeighborhood = seaborn.catplot(data = airbnb, x = \"neighbourhood_group\", y = \"price\", kind = \"strip\", hue = \"room_type\")\n",
        "byNeighborhood"
      ],
      "execution_count": 76,
      "outputs": [
        {
          "output_type": "execute_result",
          "data": {
            "text/plain": [
              "<seaborn.axisgrid.FacetGrid at 0x7f1f9135e320>"
            ]
          },
          "metadata": {
            "tags": []
          },
          "execution_count": 76
        },
        {
          "output_type": "display_data",
          "data": {
            "image/png": "[encoded data removed]",
            "text/plain": [
              "<Figure size 476.25x360 with 1 Axes>"
            ]
          },
          "metadata": {
            "tags": [],
            "needs_background": "light"
          }
        }
      ]
    },
    {
      "cell_type": "code",
      "metadata": {
        "colab": {
          "base_uri": "https://localhost:8080/"
        },
        "id": "-4-Fa7hbe_zQ",
        "outputId": "9d7f2883-5bf0-4dbd-ff09-0435a865839c"
      },
      "source": [
        "print(airbnb.mean())\n",
        "print(airbnb.std())"
      ],
      "execution_count": 77,
      "outputs": [
        {
          "output_type": "stream",
          "text": [
            "price                             130.083926\n",
            "minimum_nights                      6.978006\n",
            "number_of_reviews                  23.591492\n",
            "reviews_per_month                   1.101467\n",
            "calculated_host_listings_count      7.096812\n",
            "availability_365                  111.016768\n",
            "dtype: float64\n",
            "price                              85.074554\n",
            "minimum_nights                     20.339170\n",
            "number_of_reviews                  44.871748\n",
            "reviews_per_month                   1.604351\n",
            "calculated_host_listings_count     32.825837\n",
            "availability_365                  130.879436\n",
            "dtype: float64\n"
          ],
          "name": "stdout"
        }
      ]
    },
    {
      "cell_type": "markdown",
      "metadata": {
        "id": "BvX_aVup9QRM"
      },
      "source": [
        "The standard deviation for minimun night stay of 20 seems high, as Airbnb is mostly for short term rentals."
      ]
    },
    {
      "cell_type": "code",
      "metadata": {
        "colab": {
          "base_uri": "https://localhost:8080/"
        },
        "id": "fK0Qjx7E9DQK",
        "outputId": "3ac80831-c8a4-4fdd-c3f8-3615c309fa4a"
      },
      "source": [
        "airbnb['minimum_nights'].describe()"
      ],
      "execution_count": 78,
      "outputs": [
        {
          "output_type": "execute_result",
          "data": {
            "text/plain": [
              "count    47649.000000\n",
              "mean         6.978006\n",
              "std         20.339170\n",
              "min          1.000000\n",
              "25%          1.000000\n",
              "50%          2.000000\n",
              "75%          5.000000\n",
              "max       1250.000000\n",
              "Name: minimum_nights, dtype: float64"
            ]
          },
          "metadata": {
            "tags": []
          },
          "execution_count": 78
        }
      ]
    },
    {
      "cell_type": "markdown",
      "metadata": {
        "id": "BWABQkv99InC"
      },
      "source": [
        "Weird to see there is a max of a 1250 night stay"
      ]
    },
    {
      "cell_type": "code",
      "metadata": {
        "colab": {
          "base_uri": "https://localhost:8080/",
          "height": 0
        },
        "id": "-xoK_6Am9aPI",
        "outputId": "b1a29b62-2342-4b96-aefc-214053202a15"
      },
      "source": [
        "airbnb['minimum_nights'].hist()"
      ],
      "execution_count": 79,
      "outputs": [
        {
          "output_type": "execute_result",
          "data": {
            "text/plain": [
              "<matplotlib.axes._subplots.AxesSubplot at 0x7f1f91140f28>"
            ]
          },
          "metadata": {
            "tags": []
          },
          "execution_count": 79
        },
        {
          "output_type": "display_data",
          "data": {
            "image/png": "[encoded data removed]",
            "text/plain": [
              "<Figure size 432x288 with 1 Axes>"
            ]
          },
          "metadata": {
            "tags": [],
            "needs_background": "light"
          }
        }
      ]
    },
    {
      "cell_type": "code",
      "metadata": {
        "colab": {
          "base_uri": "https://localhost:8080/",
          "height": 0
        },
        "id": "vubANvX89eaL",
        "outputId": "83d56879-8233-4323-aaf8-28be57461ee8"
      },
      "source": [
        "print(airbnb['minimum_nights'].quantile([0.25,0.5,0.75, .95, .99]))\n",
        "airbnb[airbnb['minimum_nights'] < 50]['minimum_nights'].hist()"
      ],
      "execution_count": 80,
      "outputs": [
        {
          "output_type": "stream",
          "text": [
            "0.25     1.00\n",
            "0.50     2.00\n",
            "0.75     5.00\n",
            "0.95    30.00\n",
            "0.99    43.52\n",
            "Name: minimum_nights, dtype: float64\n"
          ],
          "name": "stdout"
        },
        {
          "output_type": "execute_result",
          "data": {
            "text/plain": [
              "<matplotlib.axes._subplots.AxesSubplot at 0x7f1f90fe6518>"
            ]
          },
          "metadata": {
            "tags": []
          },
          "execution_count": 80
        },
        {
          "output_type": "display_data",
          "data": {
            "image/png": "[encoded data removed]",
            "text/plain": [
              "<Figure size 432x288 with 1 Axes>"
            ]
          },
          "metadata": {
            "tags": [],
            "needs_background": "light"
          }
        }
      ]
    },
    {
      "cell_type": "markdown",
      "metadata": {
        "id": "MxkdUJs7-FK9"
      },
      "source": [
        "Of all of the reviews it seems that 30 nights makes sense as a place to cut off for miniumun night stay."
      ]
    },
    {
      "cell_type": "code",
      "metadata": {
        "id": "q1fmzUyz-TR5"
      },
      "source": [
        "airbnb = airbnb[airbnb[\"minimum_nights\"]<30]"
      ],
      "execution_count": 81,
      "outputs": []
    },
    {
      "cell_type": "markdown",
      "metadata": {
        "id": "yjioDu9jcWto"
      },
      "source": [
        "Now I will visualize the possible corelation between varibles to help decide which model best fits our data using the heatmap function from the Seaborn library."
      ]
    },
    {
      "cell_type": "code",
      "metadata": {
        "colab": {
          "base_uri": "https://localhost:8080/",
          "height": 0
        },
        "id": "vvCYalZ6cckQ",
        "outputId": "d811f364-67a0-4a45-e3ed-f20e6ea05c58"
      },
      "source": [
        "corrplot = airbnb.corr(method= 'kendall')\n",
        "plt.figure(figsize= (12,10))\n",
        "seaborn.heatmap(corrplot, annot=True)"
      ],
      "execution_count": 82,
      "outputs": [
        {
          "output_type": "execute_result",
          "data": {
            "text/plain": [
              "<matplotlib.axes._subplots.AxesSubplot at 0x7f1f9fb6ee10>"
            ]
          },
          "metadata": {
            "tags": []
          },
          "execution_count": 82
        },
        {
          "output_type": "display_data",
          "data": {
            "image/png": "[encoded data removed]",
            "text/plain": [
              "<Figure size 864x720 with 2 Axes>"
            ]
          },
          "metadata": {
            "tags": [],
            "needs_background": "light"
          }
        }
      ]
    },
    {
      "cell_type": "markdown",
      "metadata": {
        "id": "VppLTpElc9Wi"
      },
      "source": [
        "From this plot, it seems that there is no strong correlation between any two varibles, which makes me predict early on that a ridge regression model will be a good fit as it takes all variables into account and weighs outliers less."
      ]
    },
    {
      "cell_type": "markdown",
      "metadata": {
        "id": "7AdYNAli0Yry"
      },
      "source": [
        "# Regression Methods and Comparisons"
      ]
    },
    {
      "cell_type": "code",
      "metadata": {
        "id": "z3abHEMm2jr4"
      },
      "source": [
        "from sklearn.linear_model import LinearRegression\n",
        "from sklearn.linear_model import Lasso\n",
        "from sklearn.linear_model import Ridge\n",
        "from sklearn.linear_model import ElasticNet\n",
        "from sklearn.model_selection import train_test_split\n",
        "from sklearn import metrics\n",
        "from sklearn.ensemble import RandomForestRegressor\n",
        "from sklearn.ensemble import GradientBoostingRegressor\n",
        "import xgboost"
      ],
      "execution_count": 83,
      "outputs": []
    },
    {
      "cell_type": "markdown",
      "metadata": {
        "id": "sXHulErN2Uk_"
      },
      "source": [
        "## Preparing Data\n",
        "Recoding non-numeric variables like neighborhood to interger values and spliting the data into test and train sets with price as the dependent variable for regression"
      ]
    },
    {
      "cell_type": "code",
      "metadata": {
        "colab": {
          "base_uri": "https://localhost:8080/"
        },
        "id": "jO3ZpCUQ-tL4",
        "outputId": "716e781e-ac41-4ecb-8c2f-598763ce8c79"
      },
      "source": [
        "print(airbnb.columns)"
      ],
      "execution_count": 84,
      "outputs": [
        {
          "output_type": "stream",
          "text": [
            "Index(['neighbourhood_group', 'neighbourhood', 'room_type', 'price',\n",
            "       'minimum_nights', 'number_of_reviews', 'reviews_per_month',\n",
            "       'calculated_host_listings_count', 'availability_365'],\n",
            "      dtype='object')\n"
          ],
          "name": "stdout"
        }
      ]
    },
    {
      "cell_type": "markdown",
      "metadata": {
        "id": "bTE-DOgDHBo5"
      },
      "source": [
        "Dropping neighbourhood and adding dummy values for neighbourhood_group to factorize it so the regression models can use it"
      ]
    },
    {
      "cell_type": "code",
      "metadata": {
        "colab": {
          "base_uri": "https://localhost:8080/",
          "height": 0
        },
        "id": "TCSfuuwJ2Tjt",
        "outputId": "d06dd1b8-bf1b-48c5-cba5-a47ac622fe75"
      },
      "source": [
        "airbnb = pd.get_dummies(airbnb, columns=['neighbourhood_group', 'neighbourhood', 'room_type'], prefix = ['ng',\"nh\",\"rt\"], drop_first=True)\n",
        "airbnb.head(3)"
      ],
      "execution_count": 85,
      "outputs": [
        {
          "output_type": "execute_result",
          "data": {
            "text/html": [
              "<div>\n",
              "<style scoped>\n",
              "    .dataframe tbody tr th:only-of-type {\n",
              "        vertical-align: middle;\n",
              "    }\n",
              "\n",
              "    .dataframe tbody tr th {\n",
              "        vertical-align: top;\n",
              "    }\n",
              "\n",
              "    .dataframe thead th {\n",
              "        text-align: right;\n",
              "    }\n",
              "</style>\n",
              "<table border=\"1\" class=\"dataframe\">\n",
              "  <thead>\n",
              "    <tr style=\"text-align: right;\">\n",
              "      <th></th>\n",
              "      <th>price</th>\n",
              "      <th>minimum_nights</th>\n",
              "      <th>number_of_reviews</th>\n",
              "      <th>reviews_per_month</th>\n",
              "      <th>calculated_host_listings_count</th>\n",
              "      <th>availability_365</th>\n",
              "      <th>ng_Brooklyn</th>\n",
              "      <th>ng_Manhattan</th>\n",
              "      <th>ng_Queens</th>\n",
              "      <th>ng_Staten Island</th>\n",
              "      <th>nh_Arden Heights</th>\n",
              "      <th>nh_Arrochar</th>\n",
              "      <th>nh_Arverne</th>\n",
              "      <th>nh_Astoria</th>\n",
              "      <th>nh_Bath Beach</th>\n",
              "      <th>nh_Battery Park City</th>\n",
              "      <th>nh_Bay Ridge</th>\n",
              "      <th>nh_Bay Terrace</th>\n",
              "      <th>nh_Bay Terrace, Staten Island</th>\n",
              "      <th>nh_Baychester</th>\n",
              "      <th>nh_Bayside</th>\n",
              "      <th>nh_Bayswater</th>\n",
              "      <th>nh_Bedford-Stuyvesant</th>\n",
              "      <th>nh_Belle Harbor</th>\n",
              "      <th>nh_Bellerose</th>\n",
              "      <th>nh_Belmont</th>\n",
              "      <th>nh_Bensonhurst</th>\n",
              "      <th>nh_Bergen Beach</th>\n",
              "      <th>nh_Boerum Hill</th>\n",
              "      <th>nh_Borough Park</th>\n",
              "      <th>nh_Breezy Point</th>\n",
              "      <th>nh_Briarwood</th>\n",
              "      <th>nh_Brighton Beach</th>\n",
              "      <th>nh_Bronxdale</th>\n",
              "      <th>nh_Brooklyn Heights</th>\n",
              "      <th>nh_Brownsville</th>\n",
              "      <th>nh_Bull's Head</th>\n",
              "      <th>nh_Bushwick</th>\n",
              "      <th>nh_Cambria Heights</th>\n",
              "      <th>nh_Canarsie</th>\n",
              "      <th>...</th>\n",
              "      <th>nh_South Slope</th>\n",
              "      <th>nh_Springfield Gardens</th>\n",
              "      <th>nh_Spuyten Duyvil</th>\n",
              "      <th>nh_St. Albans</th>\n",
              "      <th>nh_St. George</th>\n",
              "      <th>nh_Stapleton</th>\n",
              "      <th>nh_Stuyvesant Town</th>\n",
              "      <th>nh_Sunnyside</th>\n",
              "      <th>nh_Sunset Park</th>\n",
              "      <th>nh_Theater District</th>\n",
              "      <th>nh_Throgs Neck</th>\n",
              "      <th>nh_Todt Hill</th>\n",
              "      <th>nh_Tompkinsville</th>\n",
              "      <th>nh_Tottenville</th>\n",
              "      <th>nh_Tremont</th>\n",
              "      <th>nh_Tribeca</th>\n",
              "      <th>nh_Two Bridges</th>\n",
              "      <th>nh_Unionport</th>\n",
              "      <th>nh_University Heights</th>\n",
              "      <th>nh_Upper East Side</th>\n",
              "      <th>nh_Upper West Side</th>\n",
              "      <th>nh_Van Nest</th>\n",
              "      <th>nh_Vinegar Hill</th>\n",
              "      <th>nh_Wakefield</th>\n",
              "      <th>nh_Washington Heights</th>\n",
              "      <th>nh_West Brighton</th>\n",
              "      <th>nh_West Farms</th>\n",
              "      <th>nh_West Village</th>\n",
              "      <th>nh_Westchester Square</th>\n",
              "      <th>nh_Westerleigh</th>\n",
              "      <th>nh_Whitestone</th>\n",
              "      <th>nh_Williamsbridge</th>\n",
              "      <th>nh_Williamsburg</th>\n",
              "      <th>nh_Willowbrook</th>\n",
              "      <th>nh_Windsor Terrace</th>\n",
              "      <th>nh_Woodhaven</th>\n",
              "      <th>nh_Woodlawn</th>\n",
              "      <th>nh_Woodside</th>\n",
              "      <th>rt_Private room</th>\n",
              "      <th>rt_Shared room</th>\n",
              "    </tr>\n",
              "  </thead>\n",
              "  <tbody>\n",
              "    <tr>\n",
              "      <th>0</th>\n",
              "      <td>149</td>\n",
              "      <td>1</td>\n",
              "      <td>9</td>\n",
              "      <td>0.21</td>\n",
              "      <td>6</td>\n",
              "      <td>365</td>\n",
              "      <td>1</td>\n",
              "      <td>0</td>\n",
              "      <td>0</td>\n",
              "      <td>0</td>\n",
              "      <td>0</td>\n",
              "      <td>0</td>\n",
              "      <td>0</td>\n",
              "      <td>0</td>\n",
              "      <td>0</td>\n",
              "      <td>0</td>\n",
              "      <td>0</td>\n",
              "      <td>0</td>\n",
              "      <td>0</td>\n",
              "      <td>0</td>\n",
              "      <td>0</td>\n",
              "      <td>0</td>\n",
              "      <td>0</td>\n",
              "      <td>0</td>\n",
              "      <td>0</td>\n",
              "      <td>0</td>\n",
              "      <td>0</td>\n",
              "      <td>0</td>\n",
              "      <td>0</td>\n",
              "      <td>0</td>\n",
              "      <td>0</td>\n",
              "      <td>0</td>\n",
              "      <td>0</td>\n",
              "      <td>0</td>\n",
              "      <td>0</td>\n",
              "      <td>0</td>\n",
              "      <td>0</td>\n",
              "      <td>0</td>\n",
              "      <td>0</td>\n",
              "      <td>0</td>\n",
              "      <td>...</td>\n",
              "      <td>0</td>\n",
              "      <td>0</td>\n",
              "      <td>0</td>\n",
              "      <td>0</td>\n",
              "      <td>0</td>\n",
              "      <td>0</td>\n",
              "      <td>0</td>\n",
              "      <td>0</td>\n",
              "      <td>0</td>\n",
              "      <td>0</td>\n",
              "      <td>0</td>\n",
              "      <td>0</td>\n",
              "      <td>0</td>\n",
              "      <td>0</td>\n",
              "      <td>0</td>\n",
              "      <td>0</td>\n",
              "      <td>0</td>\n",
              "      <td>0</td>\n",
              "      <td>0</td>\n",
              "      <td>0</td>\n",
              "      <td>0</td>\n",
              "      <td>0</td>\n",
              "      <td>0</td>\n",
              "      <td>0</td>\n",
              "      <td>0</td>\n",
              "      <td>0</td>\n",
              "      <td>0</td>\n",
              "      <td>0</td>\n",
              "      <td>0</td>\n",
              "      <td>0</td>\n",
              "      <td>0</td>\n",
              "      <td>0</td>\n",
              "      <td>0</td>\n",
              "      <td>0</td>\n",
              "      <td>0</td>\n",
              "      <td>0</td>\n",
              "      <td>0</td>\n",
              "      <td>0</td>\n",
              "      <td>1</td>\n",
              "      <td>0</td>\n",
              "    </tr>\n",
              "    <tr>\n",
              "      <th>1</th>\n",
              "      <td>225</td>\n",
              "      <td>1</td>\n",
              "      <td>45</td>\n",
              "      <td>0.38</td>\n",
              "      <td>2</td>\n",
              "      <td>355</td>\n",
              "      <td>0</td>\n",
              "      <td>1</td>\n",
              "      <td>0</td>\n",
              "      <td>0</td>\n",
              "      <td>0</td>\n",
              "      <td>0</td>\n",
              "      <td>0</td>\n",
              "      <td>0</td>\n",
              "      <td>0</td>\n",
              "      <td>0</td>\n",
              "      <td>0</td>\n",
              "      <td>0</td>\n",
              "      <td>0</td>\n",
              "      <td>0</td>\n",
              "      <td>0</td>\n",
              "      <td>0</td>\n",
              "      <td>0</td>\n",
              "      <td>0</td>\n",
              "      <td>0</td>\n",
              "      <td>0</td>\n",
              "      <td>0</td>\n",
              "      <td>0</td>\n",
              "      <td>0</td>\n",
              "      <td>0</td>\n",
              "      <td>0</td>\n",
              "      <td>0</td>\n",
              "      <td>0</td>\n",
              "      <td>0</td>\n",
              "      <td>0</td>\n",
              "      <td>0</td>\n",
              "      <td>0</td>\n",
              "      <td>0</td>\n",
              "      <td>0</td>\n",
              "      <td>0</td>\n",
              "      <td>...</td>\n",
              "      <td>0</td>\n",
              "      <td>0</td>\n",
              "      <td>0</td>\n",
              "      <td>0</td>\n",
              "      <td>0</td>\n",
              "      <td>0</td>\n",
              "      <td>0</td>\n",
              "      <td>0</td>\n",
              "      <td>0</td>\n",
              "      <td>0</td>\n",
              "      <td>0</td>\n",
              "      <td>0</td>\n",
              "      <td>0</td>\n",
              "      <td>0</td>\n",
              "      <td>0</td>\n",
              "      <td>0</td>\n",
              "      <td>0</td>\n",
              "      <td>0</td>\n",
              "      <td>0</td>\n",
              "      <td>0</td>\n",
              "      <td>0</td>\n",
              "      <td>0</td>\n",
              "      <td>0</td>\n",
              "      <td>0</td>\n",
              "      <td>0</td>\n",
              "      <td>0</td>\n",
              "      <td>0</td>\n",
              "      <td>0</td>\n",
              "      <td>0</td>\n",
              "      <td>0</td>\n",
              "      <td>0</td>\n",
              "      <td>0</td>\n",
              "      <td>0</td>\n",
              "      <td>0</td>\n",
              "      <td>0</td>\n",
              "      <td>0</td>\n",
              "      <td>0</td>\n",
              "      <td>0</td>\n",
              "      <td>0</td>\n",
              "      <td>0</td>\n",
              "    </tr>\n",
              "    <tr>\n",
              "      <th>2</th>\n",
              "      <td>150</td>\n",
              "      <td>3</td>\n",
              "      <td>0</td>\n",
              "      <td>0.00</td>\n",
              "      <td>1</td>\n",
              "      <td>365</td>\n",
              "      <td>0</td>\n",
              "      <td>1</td>\n",
              "      <td>0</td>\n",
              "      <td>0</td>\n",
              "      <td>0</td>\n",
              "      <td>0</td>\n",
              "      <td>0</td>\n",
              "      <td>0</td>\n",
              "      <td>0</td>\n",
              "      <td>0</td>\n",
              "      <td>0</td>\n",
              "      <td>0</td>\n",
              "      <td>0</td>\n",
              "      <td>0</td>\n",
              "      <td>0</td>\n",
              "      <td>0</td>\n",
              "      <td>0</td>\n",
              "      <td>0</td>\n",
              "      <td>0</td>\n",
              "      <td>0</td>\n",
              "      <td>0</td>\n",
              "      <td>0</td>\n",
              "      <td>0</td>\n",
              "      <td>0</td>\n",
              "      <td>0</td>\n",
              "      <td>0</td>\n",
              "      <td>0</td>\n",
              "      <td>0</td>\n",
              "      <td>0</td>\n",
              "      <td>0</td>\n",
              "      <td>0</td>\n",
              "      <td>0</td>\n",
              "      <td>0</td>\n",
              "      <td>0</td>\n",
              "      <td>...</td>\n",
              "      <td>0</td>\n",
              "      <td>0</td>\n",
              "      <td>0</td>\n",
              "      <td>0</td>\n",
              "      <td>0</td>\n",
              "      <td>0</td>\n",
              "      <td>0</td>\n",
              "      <td>0</td>\n",
              "      <td>0</td>\n",
              "      <td>0</td>\n",
              "      <td>0</td>\n",
              "      <td>0</td>\n",
              "      <td>0</td>\n",
              "      <td>0</td>\n",
              "      <td>0</td>\n",
              "      <td>0</td>\n",
              "      <td>0</td>\n",
              "      <td>0</td>\n",
              "      <td>0</td>\n",
              "      <td>0</td>\n",
              "      <td>0</td>\n",
              "      <td>0</td>\n",
              "      <td>0</td>\n",
              "      <td>0</td>\n",
              "      <td>0</td>\n",
              "      <td>0</td>\n",
              "      <td>0</td>\n",
              "      <td>0</td>\n",
              "      <td>0</td>\n",
              "      <td>0</td>\n",
              "      <td>0</td>\n",
              "      <td>0</td>\n",
              "      <td>0</td>\n",
              "      <td>0</td>\n",
              "      <td>0</td>\n",
              "      <td>0</td>\n",
              "      <td>0</td>\n",
              "      <td>0</td>\n",
              "      <td>1</td>\n",
              "      <td>0</td>\n",
              "    </tr>\n",
              "  </tbody>\n",
              "</table>\n",
              "<p>3 rows × 230 columns</p>\n",
              "</div>"
            ],
            "text/plain": [
              "   price  minimum_nights  ...  rt_Private room  rt_Shared room\n",
              "0    149               1  ...                1               0\n",
              "1    225               1  ...                0               0\n",
              "2    150               3  ...                1               0\n",
              "\n",
              "[3 rows x 230 columns]"
            ]
          },
          "metadata": {
            "tags": []
          },
          "execution_count": 85
        }
      ]
    },
    {
      "cell_type": "code",
      "metadata": {
        "id": "eWlOFR0J6RMd"
      },
      "source": [
        "x = airbnb.drop('price', axis=1)\n",
        "y = airbnb['price']"
      ],
      "execution_count": 86,
      "outputs": []
    },
    {
      "cell_type": "code",
      "metadata": {
        "id": "OLIKJHqd6Pro"
      },
      "source": [
        "x_train, x_test, y_train, y_test = train_test_split(x, y, test_size = .20, random_state = 42)"
      ],
      "execution_count": 87,
      "outputs": []
    },
    {
      "cell_type": "markdown",
      "metadata": {
        "id": "k6A8H7p31439"
      },
      "source": [
        "## Ridge Regression"
      ]
    },
    {
      "cell_type": "code",
      "metadata": {
        "colab": {
          "base_uri": "https://localhost:8080/"
        },
        "id": "J4dkKB1ezuw9",
        "outputId": "ebd4e3b3-a77b-42eb-f22e-3b0e567d831c"
      },
      "source": [
        "ridgeReg = Ridge(alpha=.01, normalize=True)\n",
        "ridgeReg.fit(x_train, y_train)"
      ],
      "execution_count": 88,
      "outputs": [
        {
          "output_type": "execute_result",
          "data": {
            "text/plain": [
              "Ridge(alpha=0.01, copy_X=True, fit_intercept=True, max_iter=None,\n",
              "      normalize=True, random_state=None, solver='auto', tol=0.001)"
            ]
          },
          "metadata": {
            "tags": []
          },
          "execution_count": 88
        }
      ]
    },
    {
      "cell_type": "markdown",
      "metadata": {
        "id": "OF4zlXa119EY"
      },
      "source": [
        "## Lasso Regression"
      ]
    },
    {
      "cell_type": "code",
      "metadata": {
        "colab": {
          "base_uri": "https://localhost:8080/"
        },
        "id": "U0R-s9At1-jz",
        "outputId": "f9a3b5e6-b771-44be-a1af-7f052376fb69"
      },
      "source": [
        "lassoReg = Lasso(alpha=0.001, normalize=False)\n",
        "lassoReg.fit(x_train, y_train)"
      ],
      "execution_count": 89,
      "outputs": [
        {
          "output_type": "stream",
          "text": [
            "/usr/local/lib/python3.6/dist-packages/sklearn/linear_model/_coordinate_descent.py:476: ConvergenceWarning: Objective did not converge. You might want to increase the number of iterations. Duality gap: 6914890.077051118, tolerance: 24575.70352160375\n",
            "  positive)\n"
          ],
          "name": "stderr"
        },
        {
          "output_type": "execute_result",
          "data": {
            "text/plain": [
              "Lasso(alpha=0.001, copy_X=True, fit_intercept=True, max_iter=1000,\n",
              "      normalize=False, positive=False, precompute=False, random_state=None,\n",
              "      selection='cyclic', tol=0.0001, warm_start=False)"
            ]
          },
          "metadata": {
            "tags": []
          },
          "execution_count": 89
        }
      ]
    },
    {
      "cell_type": "markdown",
      "metadata": {
        "id": "iJLr_rt51_QR"
      },
      "source": [
        "## Elastic Net Regression"
      ]
    },
    {
      "cell_type": "code",
      "metadata": {
        "colab": {
          "base_uri": "https://localhost:8080/"
        },
        "id": "J51ud8Ip2A--",
        "outputId": "be1182ca-e00c-413e-f05c-c694e0e9147e"
      },
      "source": [
        "elasticNetReg = ElasticNet(alpha= .01, normalize=False)\n",
        "elasticNetReg.fit(x_train, y_train)"
      ],
      "execution_count": 90,
      "outputs": [
        {
          "output_type": "execute_result",
          "data": {
            "text/plain": [
              "ElasticNet(alpha=0.01, copy_X=True, fit_intercept=True, l1_ratio=0.5,\n",
              "           max_iter=1000, normalize=False, positive=False, precompute=False,\n",
              "           random_state=None, selection='cyclic', tol=0.0001, warm_start=False)"
            ]
          },
          "metadata": {
            "tags": []
          },
          "execution_count": 90
        }
      ]
    },
    {
      "cell_type": "markdown",
      "metadata": {
        "id": "x173NZhIiW4B"
      },
      "source": [
        "## XGBoost"
      ]
    },
    {
      "cell_type": "code",
      "metadata": {
        "colab": {
          "base_uri": "https://localhost:8080/"
        },
        "id": "1A-a_3djLoh7",
        "outputId": "fbf07dc9-d9b7-4308-a89b-777d8ff834c5"
      },
      "source": [
        "xgb = xgboost.XGBRegressor(n_estimators=310,learning_rate=0.1,objective='reg:squarederror')\n",
        "xgb.fit(x_train, y_train)"
      ],
      "execution_count": 91,
      "outputs": [
        {
          "output_type": "execute_result",
          "data": {
            "text/plain": [
              "XGBRegressor(base_score=0.5, booster='gbtree', colsample_bylevel=1,\n",
              "             colsample_bynode=1, colsample_bytree=1, gamma=0,\n",
              "             importance_type='gain', learning_rate=0.1, max_delta_step=0,\n",
              "             max_depth=3, min_child_weight=1, missing=None, n_estimators=310,\n",
              "             n_jobs=1, nthread=None, objective='reg:squarederror',\n",
              "             random_state=0, reg_alpha=0, reg_lambda=1, scale_pos_weight=1,\n",
              "             seed=None, silent=None, subsample=1, verbosity=1)"
            ]
          },
          "metadata": {
            "tags": []
          },
          "execution_count": 91
        }
      ]
    },
    {
      "cell_type": "markdown",
      "metadata": {
        "id": "07KUQIB-iZiZ"
      },
      "source": [
        "## Gradient Boost"
      ]
    },
    {
      "cell_type": "code",
      "metadata": {
        "colab": {
          "base_uri": "https://localhost:8080/"
        },
        "id": "o98QQhYsLwh7",
        "outputId": "209c7f96-d576-48bc-87df-05e1525c7d6c"
      },
      "source": [
        "GBoost = GradientBoostingRegressor(n_estimators=3000, learning_rate=0.01)\n",
        "GBoost.fit(x_train,y_train)"
      ],
      "execution_count": 92,
      "outputs": [
        {
          "output_type": "execute_result",
          "data": {
            "text/plain": [
              "GradientBoostingRegressor(alpha=0.9, ccp_alpha=0.0, criterion='friedman_mse',\n",
              "                          init=None, learning_rate=0.01, loss='ls', max_depth=3,\n",
              "                          max_features=None, max_leaf_nodes=None,\n",
              "                          min_impurity_decrease=0.0, min_impurity_split=None,\n",
              "                          min_samples_leaf=1, min_samples_split=2,\n",
              "                          min_weight_fraction_leaf=0.0, n_estimators=3000,\n",
              "                          n_iter_no_change=None, presort='deprecated',\n",
              "                          random_state=None, subsample=1.0, tol=0.0001,\n",
              "                          validation_fraction=0.1, verbose=0, warm_start=False)"
            ]
          },
          "metadata": {
            "tags": []
          },
          "execution_count": 92
        }
      ]
    },
    {
      "cell_type": "markdown",
      "metadata": {
        "id": "JQKzmth82B6M"
      },
      "source": [
        "## Comparison and Metrics"
      ]
    },
    {
      "cell_type": "markdown",
      "metadata": {
        "id": "FOeZZnldgVNN"
      },
      "source": [
        "I chose to use the three metrics of mean absolute error, root mean squared error, and the coefficient of determination, or the $R^2$ score. These metrics will give a good idea for if the model is getting close to the actual prices in the test data and a basic idea of what factors are influencing the outcomes, such as outliers."
      ]
    },
    {
      "cell_type": "code",
      "metadata": {
        "colab": {
          "base_uri": "https://localhost:8080/"
        },
        "id": "sJR1Gen52Ftk",
        "outputId": "da2cbc91-2fae-4b7f-9994-e271c7586583"
      },
      "source": [
        "\n",
        "print(\"==================Lasso=========================\")\n",
        "lassoPredictions = lassoReg.predict(x_test)\n",
        "print(\"Mean Absolute Error: {mae: f}\"\n",
        "    .format(mae= metrics.mean_absolute_error(y_test, lassoPredictions)))\n",
        "print(\"Root Mean Squared Error: {rmse: f}\"\n",
        "    .format(rmse=np.sqrt(metrics.mean_squared_error(y_test, lassoPredictions))))\n",
        "print(\"R2: {r2: f}\"\n",
        "    .format(r2=metrics.r2_score(y_test, lassoPredictions)))\n",
        "print(\"===================Ridge========================\")\n",
        "ridgePredictions = ridgeReg.predict(x_test)\n",
        "print(\"Mean Absolute Error: {mae: f}\"\n",
        "    .format(mae= metrics.mean_absolute_error(y_test, ridgePredictions)))\n",
        "print(\"Root Mean Squared Error: {rmse: f}\"\n",
        "    .format(rmse=np.sqrt(metrics.mean_squared_error(y_test, ridgePredictions))))\n",
        "print(\"R2: {r2: f}\"\n",
        "    .format(r2=metrics.r2_score(y_test, ridgePredictions)))\n",
        "print(\"================Elastic Net=====================\")\n",
        "elasticNetPrediction = elasticNetReg.predict(x_test)\n",
        "print(\"Mean Absolute Error: {mae: f}\"\n",
        "    .format(mae= metrics.mean_absolute_error(y_test, elasticNetPrediction)))\n",
        "print(\"Root Mean Squared Error: {rmse: f}\"\n",
        "    .format(rmse=np.sqrt(metrics.mean_squared_error(y_test, elasticNetPrediction))))\n",
        "print(\"R2: {r2: f}\"\n",
        "    .format(r2=metrics.r2_score(y_test, elasticNetPrediction)))\n",
        "print(\"===================XGB==========================\")\n",
        "gbmPredict = xgb.predict(x_test)\n",
        "print(\"Mean Absolute Error: {mae: f}\"\n",
        "    .format(mae= metrics.mean_absolute_error(y_test, gbmPredict)))\n",
        "print(\"Root Mean Squared Error: {rmse: f}\"\n",
        "    .format(rmse=np.sqrt(metrics.mean_squared_error(y_test, gbmPredict))))\n",
        "print(\"R2: {r2: f}\"\n",
        "    .format(r2=metrics.r2_score(y_test, gbmPredict)))\n",
        "print(\"==================GBoost========================\")\n",
        "gBoostPredict = GBoost.predict(x_test)\n",
        "print(\"Mean Absolute Error: {mae: f}\"\n",
        "    .format(mae= metrics.mean_absolute_error(y_test, gBoostPredict)))\n",
        "print(\"Root Mean Squared Error: {rmse: f}\"\n",
        "    .format(rmse=np.sqrt(metrics.mean_squared_error(y_test, gBoostPredict))))\n",
        "print(\"R2: {r2: f}\"\n",
        "    .format(r2=metrics.r2_score(y_test, gBoostPredict)))\n"
      ],
      "execution_count": 93,
      "outputs": [
        {
          "output_type": "stream",
          "text": [
            "==================Lasso=========================\n",
            "Mean Absolute Error:  41.578341\n",
            "Root Mean Squared Error:  60.238604\n",
            "R2:  0.475378\n",
            "===================Ridge========================\n",
            "Mean Absolute Error:  41.574830\n",
            "Root Mean Squared Error:  60.273649\n",
            "R2:  0.474767\n",
            "================Elastic Net=====================\n",
            "Mean Absolute Error:  41.854330\n",
            "Root Mean Squared Error:  60.654174\n",
            "R2:  0.468114\n",
            "===================XGB==========================\n",
            "Mean Absolute Error:  39.711403\n",
            "Root Mean Squared Error:  58.343879\n",
            "R2:  0.507861\n",
            "==================GBoost========================\n",
            "Mean Absolute Error:  39.894998\n",
            "Root Mean Squared Error:  58.524002\n",
            "R2:  0.504818\n"
          ],
          "name": "stdout"
        }
      ]
    },
    {
      "cell_type": "markdown",
      "metadata": {
        "id": "RddacKxc2GpY"
      },
      "source": [
        "# Results and Takeaways"
      ]
    },
    {
      "cell_type": "markdown",
      "metadata": {
        "id": "PtQB-GuJAM2N"
      },
      "source": [
        "Based on these metrics, XGBoost preformed the best overall, the lost lowest MSE, RMSE, and greatest $R^2$ score. Gradient boosting was a close second with slightly higher MSE and RMSE and lower $R^2$ scores. As expected, both Lasso and Ridge preformed about the same. I expected Elastic Net preform to be slightly better than Lasso and Ridge but given the 200+ dummy variables for the neighborhoods it makes sense all three of these methods may struggle."
      ]
    },
    {
      "cell_type": "markdown",
      "metadata": {
        "id": "-DCqHppd6-AP"
      },
      "source": [
        "## Saving Model Results"
      ]
    },
    {
      "cell_type": "code",
      "metadata": {
        "id": "OCVza34v7Ais"
      },
      "source": [
        "submission = pd.DataFrame({'Actual Values': np.array(y_test).flatten(), 'Predicted Values': gbmPredict.flatten()})\n",
        "submission.to_csv('submission.csv')"
      ],
      "execution_count": 94,
      "outputs": []
    },
    {
      "cell_type": "code",
      "metadata": {
        "colab": {
          "base_uri": "https://localhost:8080/",
          "height": 714
        },
        "id": "5Gyi4dIKSseY",
        "outputId": "3a6e8889-61e0-4f4a-dc64-79a1e1b859d5"
      },
      "source": [
        "fig, ax = plt.subplots(figsize=(15, 12))\n",
        "ax.scatter(y_test, gbmPredict)\n",
        "ax.plot([y.min(), y.max()], [y.min(), y.max()], 'k--', lw=4)\n",
        "ax.set_xlabel('Actual')\n",
        "ax.set_ylabel('Predicted')\n",
        "plt.show()"
      ],
      "execution_count": 98,
      "outputs": [
        {
          "output_type": "display_data",
          "data": {
            "image/png": "[encoded data removed]",
            "text/plain": [
              "<Figure size 1080x864 with 1 Axes>"
            ]
          },
          "metadata": {
            "tags": [],
            "needs_background": "light"
          }
        }
      ]
    }
  ]
}